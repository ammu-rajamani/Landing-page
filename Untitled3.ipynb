{
  "nbformat": 4,
  "nbformat_minor": 0,
  "metadata": {
    "colab": {
      "provenance": [],
      "include_colab_link": true
    },
    "kernelspec": {
      "name": "python3",
      "display_name": "Python 3"
    },
    "language_info": {
      "name": "python"
    }
  },
  "cells": [
    {
      "cell_type": "markdown",
      "metadata": {
        "id": "view-in-github",
        "colab_type": "text"
      },
      "source": [
        "<a href=\"https://colab.research.google.com/github/ammu-rajamani/Landing-page/blob/main/Untitled3.ipynb\" target=\"_parent\"><img src=\"https://colab.research.google.com/assets/colab-badge.svg\" alt=\"Open In Colab\"/></a>"
      ]
    },
    {
      "cell_type": "code",
      "execution_count": null,
      "metadata": {
        "colab": {
          "base_uri": "https://localhost:8080/"
        },
        "id": "Qw08BfKZOppo",
        "outputId": "49e4e1af-de88-4f2e-b796-6be8ce19194d"
      },
      "outputs": [
        {
          "output_type": "stream",
          "name": "stdout",
          "text": [
            "Requirement already satisfied: pyspark in /usr/local/lib/python3.11/dist-packages (3.5.1)\n",
            "Requirement already satisfied: py4j==0.10.9.7 in /usr/local/lib/python3.11/dist-packages (from pyspark) (0.10.9.7)\n"
          ]
        }
      ],
      "source": [
        "pip install pyspark"
      ]
    },
    {
      "cell_type": "code",
      "source": [
        "import pyspark"
      ],
      "metadata": {
        "id": "_NMJSE5BO6Qk"
      },
      "execution_count": null,
      "outputs": []
    },
    {
      "cell_type": "code",
      "source": [
        "from pyspark.sql import SparkSession"
      ],
      "metadata": {
        "id": "mv38Z1VFPD5i"
      },
      "execution_count": null,
      "outputs": []
    },
    {
      "cell_type": "code",
      "source": [
        "spark = SparkSession.builder.appName(\"example\").getOrCreate()"
      ],
      "metadata": {
        "id": "lxmbvR2WPe3g"
      },
      "execution_count": null,
      "outputs": []
    },
    {
      "cell_type": "code",
      "source": [
        "from pyspark.sql import Row\n",
        "\n",
        "data = [Row(name=\"Alice\", age=25), Row(name=\"Bob\", age=30), Row(name=\"Charlie\", age=35)]\n",
        "df = spark.createDataFrame(data)\n"
      ],
      "metadata": {
        "id": "c6IowORNPzBU"
      },
      "execution_count": null,
      "outputs": []
    },
    {
      "cell_type": "code",
      "source": [
        "df.select(\"name\")"
      ],
      "metadata": {
        "colab": {
          "base_uri": "https://localhost:8080/"
        },
        "id": "y3-PyYWvRnhy",
        "outputId": "9e1c32ad-5f50-488c-e314-14bcec8e234c"
      },
      "execution_count": null,
      "outputs": [
        {
          "output_type": "execute_result",
          "data": {
            "text/plain": [
              "DataFrame[name: string]"
            ]
          },
          "metadata": {},
          "execution_count": 29
        }
      ]
    },
    {
      "cell_type": "code",
      "source": [
        "df.filter(df.age > 28).show()"
      ],
      "metadata": {
        "colab": {
          "base_uri": "https://localhost:8080/"
        },
        "id": "fyksAQxxSCXr",
        "outputId": "b53a52f3-8acf-4c3c-a170-45a3ba38685d"
      },
      "execution_count": null,
      "outputs": [
        {
          "output_type": "stream",
          "name": "stdout",
          "text": [
            "+-------+---+\n",
            "|   name|age|\n",
            "+-------+---+\n",
            "|    Bob| 30|\n",
            "|Charlie| 35|\n",
            "+-------+---+\n",
            "\n"
          ]
        }
      ]
    },
    {
      "cell_type": "code",
      "source": [
        "from pyspark.sql.functions import col\n",
        "df.withColumn(\"age_plus_10\", col(\"age\") + 10).show()"
      ],
      "metadata": {
        "colab": {
          "base_uri": "https://localhost:8080/"
        },
        "id": "exdjpQ2-YLq_",
        "outputId": "f7ffcb0f-8de0-480d-b93c-fede71bd5b33"
      },
      "execution_count": null,
      "outputs": [
        {
          "output_type": "stream",
          "name": "stdout",
          "text": [
            "+-------+---+-----------+\n",
            "|   name|age|age_plus_10|\n",
            "+-------+---+-----------+\n",
            "|  Alice| 25|         35|\n",
            "|    Bob| 30|         40|\n",
            "|Charlie| 35|         45|\n",
            "+-------+---+-----------+\n",
            "\n"
          ]
        }
      ]
    },
    {
      "cell_type": "code",
      "source": [
        "df.groupBy(\"age\").count().show()"
      ],
      "metadata": {
        "colab": {
          "base_uri": "https://localhost:8080/"
        },
        "id": "FTVCUukfxSo9",
        "outputId": "e7e830ff-937f-4c92-f1f3-8b90f6a8b921"
      },
      "execution_count": null,
      "outputs": [
        {
          "output_type": "stream",
          "name": "stdout",
          "text": [
            "+---+-----+\n",
            "|age|count|\n",
            "+---+-----+\n",
            "| 25|    1|\n",
            "| 35|    1|\n",
            "| 30|    1|\n",
            "+---+-----+\n",
            "\n"
          ]
        }
      ]
    },
    {
      "cell_type": "code",
      "source": [
        "df.orderBy(\"age\").show()"
      ],
      "metadata": {
        "colab": {
          "base_uri": "https://localhost:8080/"
        },
        "id": "WaZqyUqY3E2N",
        "outputId": "a6ef490b-c27e-4a50-afcd-fa5f6442bd98"
      },
      "execution_count": null,
      "outputs": [
        {
          "output_type": "stream",
          "name": "stdout",
          "text": [
            "+-------+---+\n",
            "|   name|age|\n",
            "+-------+---+\n",
            "|  Alice| 25|\n",
            "|    Bob| 30|\n",
            "|Charlie| 35|\n",
            "+-------+---+\n",
            "\n"
          ]
        }
      ]
    },
    {
      "cell_type": "code",
      "source": [
        "df.orderBy(df.age.desc()).show()"
      ],
      "metadata": {
        "colab": {
          "base_uri": "https://localhost:8080/"
        },
        "id": "fp9mXrl93-8a",
        "outputId": "381e0200-3471-458c-e6f1-5645b34b381f"
      },
      "execution_count": null,
      "outputs": [
        {
          "output_type": "stream",
          "name": "stdout",
          "text": [
            "+-------+---+\n",
            "|   name|age|\n",
            "+-------+---+\n",
            "|Charlie| 35|\n",
            "|    Bob| 30|\n",
            "|  Alice| 25|\n",
            "+-------+---+\n",
            "\n"
          ]
        }
      ]
    },
    {
      "cell_type": "code",
      "source": [
        "df.withColumnRenamed(\"name\", \"full_name\").show()"
      ],
      "metadata": {
        "colab": {
          "base_uri": "https://localhost:8080/"
        },
        "id": "doDSQJ0-4LaX",
        "outputId": "0dedeb1a-405b-41a7-9663-8299f21b2b88"
      },
      "execution_count": null,
      "outputs": [
        {
          "output_type": "stream",
          "name": "stdout",
          "text": [
            "+---------+---+\n",
            "|full_name|age|\n",
            "+---------+---+\n",
            "|    Alice| 25|\n",
            "|      Bob| 30|\n",
            "|  Charlie| 35|\n",
            "+---------+---+\n",
            "\n"
          ]
        }
      ]
    },
    {
      "cell_type": "code",
      "source": [
        "from pyspark.sql.types import StructType, StructField, StringType, IntegerType\n",
        "schema = StructType([StructField(\"name\", StringType(), True),\n",
        "                     StructField(\"age\", IntegerType(), True)])\n",
        "data = [(\"David\",22),(\"Eva\",29)]\n",
        "df2 = spark.createDataFrame(data, schema)\n",
        "df.show()"
      ],
      "metadata": {
        "colab": {
          "base_uri": "https://localhost:8080/"
        },
        "id": "KnY90d7I2tnx",
        "outputId": "bb0fefb5-a489-4c17-d399-37d03fbc03ee"
      },
      "execution_count": null,
      "outputs": [
        {
          "output_type": "stream",
          "name": "stdout",
          "text": [
            "+-------+---+\n",
            "|   name|age|\n",
            "+-------+---+\n",
            "|  Alice| 25|\n",
            "|    Bob| 30|\n",
            "|Charlie| 35|\n",
            "+-------+---+\n",
            "\n"
          ]
        }
      ]
    },
    {
      "cell_type": "code",
      "source": [
        "from pyspark.sql.functions import when, col\n",
        "df.withColumn(\"age_group\", when(col(\"age\") < 30, \"Young\").otherwise(\"Old\")).show()"
      ],
      "metadata": {
        "colab": {
          "base_uri": "https://localhost:8080/"
        },
        "id": "qDKBLCeQSdOl",
        "outputId": "49925a44-16c1-41c0-c016-6acbe5fe3e10"
      },
      "execution_count": null,
      "outputs": [
        {
          "output_type": "stream",
          "name": "stdout",
          "text": [
            "+-------+---+---------+\n",
            "|   name|age|age_group|\n",
            "+-------+---+---------+\n",
            "|  Alice| 25|    Young|\n",
            "|    Bob| 30|      Old|\n",
            "|Charlie| 35|      Old|\n",
            "+-------+---+---------+\n",
            "\n"
          ]
        }
      ]
    },
    {
      "cell_type": "code",
      "source": [
        "dfwithdupes = df.union(df).show()"
      ],
      "metadata": {
        "colab": {
          "base_uri": "https://localhost:8080/"
        },
        "id": "1lvG_PzsTSN-",
        "outputId": "949e67db-d7c8-4035-8b6d-73881d3a8f8a"
      },
      "execution_count": null,
      "outputs": [
        {
          "output_type": "stream",
          "name": "stdout",
          "text": [
            "+-------+---+\n",
            "|   name|age|\n",
            "+-------+---+\n",
            "|  Alice| 25|\n",
            "|    Bob| 30|\n",
            "|Charlie| 35|\n",
            "|  Alice| 25|\n",
            "|    Bob| 30|\n",
            "|Charlie| 35|\n",
            "+-------+---+\n",
            "\n"
          ]
        }
      ]
    },
    {
      "cell_type": "code",
      "source": [
        "df_with_dupes = df.union(df)\n",
        "df_with_dupes.dropDuplicates().show()"
      ],
      "metadata": {
        "colab": {
          "base_uri": "https://localhost:8080/"
        },
        "id": "LS7aTp0ETmW8",
        "outputId": "a82b86c1-2b30-4972-96df-438c6dc1519c"
      },
      "execution_count": null,
      "outputs": [
        {
          "output_type": "stream",
          "name": "stdout",
          "text": [
            "+-------+---+\n",
            "|   name|age|\n",
            "+-------+---+\n",
            "|  Alice| 25|\n",
            "|Charlie| 35|\n",
            "|    Bob| 30|\n",
            "+-------+---+\n",
            "\n"
          ]
        }
      ]
    },
    {
      "cell_type": "code",
      "source": [
        "df.describe().show()"
      ],
      "metadata": {
        "colab": {
          "base_uri": "https://localhost:8080/"
        },
        "id": "WMwCLt-YUrUS",
        "outputId": "036a439f-e1a7-4f42-c830-78cbd3837264"
      },
      "execution_count": null,
      "outputs": [
        {
          "output_type": "stream",
          "name": "stdout",
          "text": [
            "+-------+-------+----+\n",
            "|summary|   name| age|\n",
            "+-------+-------+----+\n",
            "|  count|      3|   3|\n",
            "|   mean|   NULL|30.0|\n",
            "| stddev|   NULL| 5.0|\n",
            "|    min|  Alice|  25|\n",
            "|    max|Charlie|  35|\n",
            "+-------+-------+----+\n",
            "\n"
          ]
        }
      ]
    },
    {
      "cell_type": "code",
      "source": [
        "from pyspark.sql.functions import expr\n",
        "df.withColumn(\"age_plus_10\", expr(\"age + 10\")).show()"
      ],
      "metadata": {
        "colab": {
          "base_uri": "https://localhost:8080/"
        },
        "id": "5Nh-K3N0Vtaj",
        "outputId": "8d3b3b42-bec2-4d73-8a70-18a517797c90"
      },
      "execution_count": null,
      "outputs": [
        {
          "output_type": "stream",
          "name": "stdout",
          "text": [
            "+-------+---+-----------+\n",
            "|   name|age|age_plus_10|\n",
            "+-------+---+-----------+\n",
            "|  Alice| 25|         35|\n",
            "|    Bob| 30|         40|\n",
            "|Charlie| 35|         45|\n",
            "+-------+---+-----------+\n",
            "\n"
          ]
        }
      ]
    },
    {
      "cell_type": "code",
      "source": [
        "from pyspark.sql.functions import isnull , col\n",
        "df.select([isnull(c).alias(c) for c in df.columns]).show()\n"
      ],
      "metadata": {
        "colab": {
          "base_uri": "https://localhost:8080/"
        },
        "id": "qzyE7lxAWcGW",
        "outputId": "a50c518e-c408-401b-9200-c7ba348f476f"
      },
      "execution_count": null,
      "outputs": [
        {
          "output_type": "stream",
          "name": "stdout",
          "text": [
            "+-----+-----+\n",
            "| name|  age|\n",
            "+-----+-----+\n",
            "|false|false|\n",
            "|false|false|\n",
            "|false|false|\n",
            "+-----+-----+\n",
            "\n"
          ]
        }
      ]
    },
    {
      "cell_type": "code",
      "source": [
        "df_with_null = spark.createDataFrame([(\"Alice\", 25), (\"Bob\", None)], [\"name\", \"age\"])\n",
        "df_with_null.filter(df_with_null.age.isNull()).show()"
      ],
      "metadata": {
        "colab": {
          "base_uri": "https://localhost:8080/"
        },
        "id": "XATsCuLvXnvy",
        "outputId": "5bdda079-c4f7-44d9-dc44-3e51e53386c7"
      },
      "execution_count": null,
      "outputs": [
        {
          "output_type": "stream",
          "name": "stdout",
          "text": [
            "+----+----+\n",
            "|name| age|\n",
            "+----+----+\n",
            "| Bob|NULL|\n",
            "+----+----+\n",
            "\n"
          ]
        }
      ]
    },
    {
      "cell_type": "code",
      "source": [
        "df.createOrReplaceTempView(\"people\")\n",
        "result = spark.sql(\"SELECT * FROM people WHERE age > 25\")\n",
        "result.show()"
      ],
      "metadata": {
        "id": "A8ayp7N0Ysvp",
        "colab": {
          "base_uri": "https://localhost:8080/"
        },
        "outputId": "2c36a389-8d76-4864-9384-349436df9b97"
      },
      "execution_count": null,
      "outputs": [
        {
          "output_type": "stream",
          "name": "stdout",
          "text": [
            "+-------+---+\n",
            "|   name|age|\n",
            "+-------+---+\n",
            "|    Bob| 30|\n",
            "|Charlie| 35|\n",
            "+-------+---+\n",
            "\n"
          ]
        }
      ]
    },
    {
      "cell_type": "code",
      "source": [
        "print(\"Total Rows:\", df.count())"
      ],
      "metadata": {
        "colab": {
          "base_uri": "https://localhost:8080/"
        },
        "id": "6LOm8fNHaqUP",
        "outputId": "d9738b35-b5cc-4d88-93ba-979a38cf628b"
      },
      "execution_count": null,
      "outputs": [
        {
          "output_type": "stream",
          "name": "stdout",
          "text": [
            "Total Rows: 3\n"
          ]
        }
      ]
    },
    {
      "cell_type": "code",
      "source": [
        "df.printSchema()"
      ],
      "metadata": {
        "colab": {
          "base_uri": "https://localhost:8080/"
        },
        "id": "1kbGb7qVcH1L",
        "outputId": "66790829-74d0-4863-b663-7475150ee0db"
      },
      "execution_count": null,
      "outputs": [
        {
          "output_type": "stream",
          "name": "stdout",
          "text": [
            "root\n",
            " |-- name: string (nullable = true)\n",
            " |-- age: long (nullable = true)\n",
            "\n"
          ]
        }
      ]
    },
    {
      "cell_type": "markdown",
      "source": [
        "DAY2 PYSPARK"
      ],
      "metadata": {
        "id": "_HzLAAtodIDL"
      }
    },
    {
      "cell_type": "code",
      "source": [
        "from pyspark.sql import SparkSession\n",
        "spark = SparkSession.builder.appName(\"PySparkFlowDay2\").getOrCreate()"
      ],
      "metadata": {
        "id": "HY901oOWdM8A"
      },
      "execution_count": null,
      "outputs": []
    },
    {
      "cell_type": "code",
      "source": [
        "from pyspark.sql.types import StructType, StructField, StringType, IntegerType\n",
        "schema = StructType([\n",
        "    StructField(\"name\", StringType(), True),\n",
        "    StructField(\"age\", IntegerType(), True)\n",
        "])\n",
        "\n",
        "data = [(\"Alice\", 25),\n",
        "        (\"Bob\", 30),\n",
        "        (\"Charlie\", 35)]\n",
        "df = spark.createDataFrame(data, schema)\n",
        "df.show()"
      ],
      "metadata": {
        "id": "fGPf20xmegJJ",
        "colab": {
          "base_uri": "https://localhost:8080/"
        },
        "outputId": "540a3f31-c20f-4299-d561-93964162e29c"
      },
      "execution_count": null,
      "outputs": [
        {
          "output_type": "stream",
          "name": "stdout",
          "text": [
            "+-------+---+\n",
            "|   name|age|\n",
            "+-------+---+\n",
            "|  Alice| 25|\n",
            "|    Bob| 30|\n",
            "|Charlie| 35|\n",
            "+-------+---+\n",
            "\n"
          ]
        }
      ]
    },
    {
      "cell_type": "code",
      "source": [],
      "metadata": {
        "id": "yTEOXV6OfreF"
      },
      "execution_count": null,
      "outputs": []
    }
  ]
}